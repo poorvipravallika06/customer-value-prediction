{
 "cells": [
  {
   "cell_type": "code",
   "execution_count": 15,
   "id": "c31073b5-97c0-4c91-a0db-57eb7ab71a80",
   "metadata": {},
   "outputs": [
    {
     "name": "stdout",
     "output_type": "stream",
     "text": [
      "   CustomerID  Recency  Frequency  Monetary  Tenure\n",
      "0         101       10          5      5000      24\n",
      "1         102       50          3      3000      12\n",
      "2         103        5         10     15000      36\n",
      "3         104       20          4      3000      13\n",
      "4         105       10          5      4000      14\n",
      "Mean Squared Error: 2.2333876538931747e-23\n",
      "R-squared Score: 1.0\n"
     ]
    }
   ],
   "source": [
    "import pandas as pd\n",
    "from sklearn.model_selection import train_test_split\n",
    "from sklearn.linear_model import LinearRegression\n",
    "from sklearn.metrics import mean_squared_error, r2_score\n",
    "import matplotlib.pyplot as plt\n",
    "import seaborn as sns\n",
    "\n",
    "# Load dataset\n",
    "data = pd.read_excel(r'C:\\Users\\poorv\\Downloads\\customers.csv.xlsx')\n",
    "\n",
    "\n",
    "print(data.head())\n",
    "\n",
    "# Define features and target\n",
    "X = data[['Recency', 'Frequency', 'Monetary', 'Tenure']]\n",
    "y = data['Monetary']  # Predicting monetary value for simplicity\n",
    "\n",
    "# Split dataset into training and testing\n",
    "X_train, X_test, y_train, y_test = train_test_split(X, y, test_size=0.2, random_state=42)\n",
    "\n",
    "# Initialize and train regression model\n",
    "model = LinearRegression()\n",
    "model.fit(X_train, y_train)\n",
    "\n",
    "# Predict on test data\n",
    "y_pred = model.predict(X_test)\n",
    "\n",
    "# Model Evaluation\n",
    "mse = mean_squared_error(y_test, y_pred)\n",
    "r2 = r2_score(y_test, y_pred)\n",
    "\n",
    "print(f\"Mean Squared Error: {mse}\")\n",
    "print(f\"R-squared Score: {r2}\")\n"
   ]
  },
  {
   "cell_type": "code",
   "execution_count": null,
   "id": "9f98a233-e0ec-45eb-b08c-a199626948cc",
   "metadata": {},
   "outputs": [],
   "source": []
  }
 ],
 "metadata": {
  "kernelspec": {
   "display_name": "Python 3 (ipykernel)",
   "language": "python",
   "name": "python3"
  },
  "language_info": {
   "codemirror_mode": {
    "name": "ipython",
    "version": 3
   },
   "file_extension": ".py",
   "mimetype": "text/x-python",
   "name": "python",
   "nbconvert_exporter": "python",
   "pygments_lexer": "ipython3",
   "version": "3.12.4"
  }
 },
 "nbformat": 4,
 "nbformat_minor": 5
}
